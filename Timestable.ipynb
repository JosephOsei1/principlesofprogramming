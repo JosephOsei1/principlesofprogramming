{
 "cells": [
  {
   "cell_type": "code",
   "execution_count": 2,
   "id": "1145d540-66cc-46c1-83e2-2c584658b016",
   "metadata": {},
   "outputs": [
    {
     "name": "stdout",
     "output_type": "stream",
     "text": [
      "Cloning into 'principlesofprogramming'...\n",
      "remote: Enumerating objects: 3, done.\u001b[K\n",
      "remote: Counting objects: 100% (3/3), done.\u001b[K\n",
      "remote: Compressing objects: 100% (2/2), done.\u001b[K\n",
      "remote: Total 3 (delta 0), reused 0 (delta 0), pack-reused 0 (from 0)\u001b[K\n",
      "Receiving objects: 100% (3/3), done.\n"
     ]
    }
   ],
   "source": [
    "!git clone https://github.com/regentoop/principlesofprogramming.git"
   ]
  },
  {
   "cell_type": "code",
   "execution_count": 3,
   "id": "86146136-2468-4491-9793-8abbfb3efa18",
   "metadata": {},
   "outputs": [
    {
     "name": "stdin",
     "output_type": "stream",
     "text": [
      "Enter a number:  4\n"
     ]
    },
    {
     "name": "stdout",
     "output_type": "stream",
     "text": [
      "\n",
      "Times Table for 4:\n",
      "\n",
      "4 × 1 = 4\n",
      "4 × 2 = 8\n",
      "4 × 3 = 12\n",
      "4 × 4 = 16\n",
      "4 × 5 = 20\n",
      "4 × 6 = 24\n",
      "4 × 7 = 28\n",
      "4 × 8 = 32\n",
      "4 × 9 = 36\n",
      "4 × 10 = 40\n",
      "4 × 11 = 44\n",
      "4 × 12 = 48\n"
     ]
    }
   ],
   "source": [
    "# Get user input\n",
    "num = int(input(\"Enter a number: \"))\n",
    "\n",
    "# Generate and display the times table\n",
    "print(f\"\\nTimes Table for {num}:\\n\")\n",
    "for i in range(1, 13):\n",
    "    print(f\"{num} × {i} = {num * i}\")\n"
   ]
  },
  {
   "cell_type": "code",
   "execution_count": null,
   "id": "e61198ea-5e59-48fc-9672-d25a356bfe19",
   "metadata": {},
   "outputs": [],
   "source": []
  }
 ],
 "metadata": {
  "kernelspec": {
   "display_name": "Python 3 (ipykernel)",
   "language": "python",
   "name": "python3"
  },
  "language_info": {
   "codemirror_mode": {
    "name": "ipython",
    "version": 3
   },
   "file_extension": ".py",
   "mimetype": "text/x-python",
   "name": "python",
   "nbconvert_exporter": "python",
   "pygments_lexer": "ipython3",
   "version": "3.9.2"
  }
 },
 "nbformat": 4,
 "nbformat_minor": 5
}
